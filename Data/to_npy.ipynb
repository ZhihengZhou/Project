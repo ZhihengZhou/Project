{
 "cells": [
  {
   "cell_type": "code",
   "execution_count": 41,
   "metadata": {},
   "outputs": [],
   "source": [
    "import glob\n",
    "import os\n",
    "import cv2\n",
    "import numpy as np\n",
    "import re\n",
    "from PIL import Image\n",
    "import operator"
   ]
  },
  {
   "cell_type": "code",
   "execution_count": 2,
   "metadata": {},
   "outputs": [],
   "source": [
    "ratio = 0.95\n",
    "\n",
    "image_size1 = 160\n",
    "image_size2 = 256"
   ]
  },
  {
   "cell_type": "code",
   "execution_count": 108,
   "metadata": {},
   "outputs": [],
   "source": [
    "x = []\n",
    "paths = glob.glob('./Masked/*')\n",
    "for path in paths:\n",
    "    \n",
    "    imgs = os.listdir(path)\n",
    "    imgs_original = [i for i in imgs if \"mask\" not in i]\n",
    "    imgs_masked = [i for i in imgs if \"mask\" in i]\n",
    "    for img_masked in imgs_masked:\n",
    "        \n",
    "        img_id = img_masked.split(\"-\")[0]\n",
    "        img_original = [i for i in imgs_original if i.split(\".\")[0] == img_id][0]\n",
    "        mask_bounds = img_masked.split(\"-\")[-1].split(\".\")[0]\n",
    "        mask_bounds = re.findall(r'(\\w*[0-9]+)\\w*',mask_bounds)\n",
    "        mask_bounds = [int(i) for i in mask_bounds]\n",
    "        mask_bounds = np.array(mask_bounds, dtype=np.uint8)\n",
    "    \n",
    "#         img1 = cv2.imread(os.path.join(path, img_original))\n",
    "#         img1 = cv2.resize(img1, (image_size1, image_size2))\n",
    "#         img1 = cv2.cvtColor(img1, cv2.COLOR_BGR2RGB)\n",
    "        \n",
    "#         img2 = cv2.imread(os.path.join(path, img_masked))\n",
    "#         img2 = cv2.resize(img2, (image_size1, image_size2))\n",
    "#         img2 = cv2.cvtColor(img2, cv2.COLOR_BGR2RGB)\n",
    "\n",
    "        img1 = Image.open(os.path.join(path, img_original))\n",
    "        img1 = img1.resize((image_size1, image_size2), Image.ANTIALIAS)\n",
    "        img1 = (np.array(img1))\n",
    "        img1 = cv2.cvtColor(img1, cv2.COLOR_BGR2RGB)\n",
    "        \n",
    "        img2 = Image.open(os.path.join(path, img_masked))\n",
    "        img2 = img2.resize((image_size1, image_size2), Image.ANTIALIAS)\n",
    "        img2 = (np.array(img2))\n",
    "        img2 = cv2.cvtColor(img2, cv2.COLOR_BGR2RGB)\n",
    "        \n",
    "        x.append((img1, img2, mask_bounds))"
   ]
  },
  {
   "cell_type": "code",
   "execution_count": 138,
   "metadata": {},
   "outputs": [],
   "source": [
    "#x = np.array(x, dtype=np.uint8)\n",
    "x = np.array(x)\n",
    "np.random.shuffle(x)\n",
    "\n",
    "p = int(ratio * len(x))\n",
    "x_train = x[:p]\n",
    "x_test = x[p:]"
   ]
  },
  {
   "cell_type": "code",
   "execution_count": 139,
   "metadata": {},
   "outputs": [],
   "source": [
    "if not os.path.exists('./npy'):\n",
    "    os.mkdir('./npy')\n",
    "np.save('./npy/x_train.npy', x_train)\n",
    "np.save('./npy/x_test.npy', x_test)"
   ]
  },
  {
   "cell_type": "code",
   "execution_count": 18,
   "metadata": {},
   "outputs": [
    {
     "data": {
      "text/plain": [
       "['S_198-mask_0-[660, 1130, 787, 1196].png',\n",
       " 'S_45-mask_0-[660, 1130, 787, 1196].png']"
      ]
     },
     "execution_count": 18,
     "metadata": {},
     "output_type": "execute_result"
    }
   ],
   "source": [
    "### Test\n",
    "path = \"./Masked/aib.ibank.android_84\"\n",
    "imgs = os.listdir(path)\n",
    "imgs_original = [i for i in imgs if \"mask\" not in i]\n",
    "imgs_masked = [i for i in imgs if \"mask\" in i]\n",
    "imgs_masked"
   ]
  },
  {
   "cell_type": "code",
   "execution_count": 27,
   "metadata": {},
   "outputs": [
    {
     "data": {
      "text/plain": [
       "[660, 1130, 787, 1196]"
      ]
     },
     "execution_count": 27,
     "metadata": {},
     "output_type": "execute_result"
    }
   ],
   "source": [
    "img_masked = imgs_masked[0]\n",
    "img_id = img_masked.split(\"-\")[0]\n",
    "img_original = [i for i in imgs_original if i.split(\".\")[0] == img_id][0]\n",
    "mask_bounds = img_masked.split(\"-\")[-1].split(\".\")[0]\n",
    "mask_bounds = re.findall(r'(\\w*[0-9]+)\\w*',mask_bounds)\n",
    "mask_bounds = [int(i) for i in mask_bounds]\n",
    "mask_bounds"
   ]
  },
  {
   "cell_type": "code",
   "execution_count": 126,
   "metadata": {},
   "outputs": [
    {
     "data": {
      "text/plain": [
       "array([[[ 0,  0,  0],\n",
       "        [ 0,  0,  0],\n",
       "        [ 0,  0,  0],\n",
       "        ..., \n",
       "        [ 0,  0,  0],\n",
       "        [ 0,  0,  0],\n",
       "        [ 0,  0,  0]],\n",
       "\n",
       "       [[ 0,  0,  0],\n",
       "        [ 0,  0,  0],\n",
       "        [ 0,  0,  0],\n",
       "        ..., \n",
       "        [ 0,  0,  0],\n",
       "        [ 0,  0,  0],\n",
       "        [ 0,  0,  0]],\n",
       "\n",
       "       [[ 0,  0,  0],\n",
       "        [ 0,  0,  0],\n",
       "        [ 0,  0,  0],\n",
       "        ..., \n",
       "        [24, 20,  0],\n",
       "        [ 0,  0,  0],\n",
       "        [ 0,  0,  0]],\n",
       "\n",
       "       ..., \n",
       "       [[ 0,  0,  0],\n",
       "        [ 0,  0,  0],\n",
       "        [ 0,  0,  0],\n",
       "        ..., \n",
       "        [ 0,  0,  0],\n",
       "        [ 0,  0,  0],\n",
       "        [ 0,  0,  0]],\n",
       "\n",
       "       [[ 0,  0,  0],\n",
       "        [ 0,  0,  0],\n",
       "        [ 0,  0,  0],\n",
       "        ..., \n",
       "        [ 0,  0,  0],\n",
       "        [ 0,  0,  0],\n",
       "        [ 0,  0,  0]],\n",
       "\n",
       "       [[ 0,  0,  0],\n",
       "        [ 0,  0,  0],\n",
       "        [ 0,  0,  0],\n",
       "        ..., \n",
       "        [ 0,  0,  0],\n",
       "        [ 0,  0,  0],\n",
       "        [ 0,  0,  0]]], dtype=uint8)"
      ]
     },
     "execution_count": 126,
     "metadata": {},
     "output_type": "execute_result"
    }
   ],
   "source": [
    "img1 = cv2.imread(\"Masked/aib.ibank.android_84/S_45.png\")\n",
    "img1 = cv2.resize(img1, (image_size1, image_size2))\n",
    "img2 = Image.open(\"Masked/aib.ibank.android_84/S_45.png\")\n",
    "img2 = img2.resize((160, 256), Image.ANTIALIAS)\n",
    "type(np.array(img2))\n",
    "#operator.eq(img1,np.array(img2))\n",
    "img1"
   ]
  },
  {
   "cell_type": "code",
   "execution_count": 137,
   "metadata": {},
   "outputs": [
    {
     "data": {
      "text/plain": [
       "(256, 160, 3)"
      ]
     },
     "execution_count": 137,
     "metadata": {},
     "output_type": "execute_result"
    }
   ],
   "source": [
    "type(x[0][2])\n",
    "xx = np.array(x)\n",
    "xx[0][0].shape\n",
    "#xx = np.array(x)\n",
    "# xx = np.array(x, dtype=np.uint8)\n",
    "#np.array([1,2,3,[4,5,6]])"
   ]
  }
 ],
 "metadata": {
  "kernelspec": {
   "display_name": "Python 3",
   "language": "python",
   "name": "python3"
  },
  "language_info": {
   "codemirror_mode": {
    "name": "ipython",
    "version": 3
   },
   "file_extension": ".py",
   "mimetype": "text/x-python",
   "name": "python",
   "nbconvert_exporter": "python",
   "pygments_lexer": "ipython3",
   "version": "3.6.4"
  }
 },
 "nbformat": 4,
 "nbformat_minor": 2
}
