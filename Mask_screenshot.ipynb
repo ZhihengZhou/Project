{
 "cells": [
  {
   "cell_type": "code",
   "execution_count": 1,
   "metadata": {},
   "outputs": [],
   "source": [
    "import os\n",
    "from PIL import Image\n",
    "import xml.etree.cElementTree as ET \n",
    "import re"
   ]
  },
  {
   "cell_type": "code",
   "execution_count": 2,
   "metadata": {},
   "outputs": [],
   "source": [
    "filenames = os.listdir(\"./\")\n",
    "dirs = [d for d in filenames if \"-output\" in d]\n",
    "output_dir = \"outputs/\""
   ]
  },
  {
   "cell_type": "code",
   "execution_count": 231,
   "metadata": {},
   "outputs": [],
   "source": [
    "for dir in dirs:\n",
    "    app_name = dir.split(\"-\")[0]\n",
    "    dir_name = os.path.join(dir, \"stoat_fsm_output\", \"ui\")\n",
    "    files_names = os.listdir(dir_name)\n",
    "    imgs = [d for d in files_names if \"png\" in d]\n",
    "    for i in imgs:\n",
    "        xml_name = [d for d in files_names if d == i.split(\".\")[0] + \".xml\"]\n",
    "        if len(xml_name) > 0:\n",
    "            tree = ET.parse(dir_name + \"/\" + xml_name[0]) \n",
    "            root = tree.getroot()\n",
    "\n",
    "            count = 0\n",
    "            img_name = i\n",
    "            find_all_element_by_attribute(root, \"node\", \"class\", \"android.widget.Button\")"
   ]
  },
  {
   "cell_type": "code",
   "execution_count": 224,
   "metadata": {},
   "outputs": [],
   "source": [
    "count = 0\n",
    "def mask_and_save_image(box):\n",
    "    global count\n",
    "    \n",
    "    im = Image.open(dir_name + \"/\" + img_name)\n",
    "    img_names = img_name.split('.')\n",
    "    region=im.crop(box)\n",
    "\n",
    "    mask = Image.new(\"RGBA\",(box[2]-box[0],box[3]-box[1]),(0,0,0))\n",
    "\n",
    "    im.paste(mask,box)\n",
    "    im.save(output_dir + app_name + \"-\" +  img_names[0] + \"-mask_\" + str(count) + \".\" + img_names[1])\n",
    "    count += 1"
   ]
  },
  {
   "cell_type": "code",
   "execution_count": 219,
   "metadata": {},
   "outputs": [],
   "source": [
    "# Find node recursively\n",
    "def find_all_element_by_attribute(node, element_name, attribute, find):\n",
    "    \"\"\"\n",
    "    This function use preorder traversal to find the all the XML objects by its attributs value.\n",
    "    Parameters:\n",
    "    node        : XML object.\n",
    "    element_name: Target object name (name of node).\n",
    "    attribute   : Target attribut name in XML object.\n",
    "    find        : Target attribute value which mean to find.\n",
    "    \"\"\"\n",
    "    if attribute in node.attrib and node.attrib[attribute] == find:\n",
    "        # Operations after find the target XML objects.\n",
    "        bounds = node.attrib['bounds']\n",
    "        bounds = re.findall(r'(\\w*[0-9]+)\\w*',bounds)\n",
    "        bounds = [int(i) for i in bounds]\n",
    "        mask_and_save_image(bounds)\n",
    "    \n",
    "    # Visit all the target objects in current object.\n",
    "    for n in node.findall(element_name):\n",
    "        find_all_element_by_attribute(n, element_name, attribute, find)"
   ]
  },
  {
   "cell_type": "code",
   "execution_count": 205,
   "metadata": {},
   "outputs": [],
   "source": [
    "count = 0\n",
    "find_all_element_by_attribute(root, \"node\", \"class\", \"android.widget.Button\")"
   ]
  },
  {
   "cell_type": "code",
   "execution_count": 141,
   "metadata": {},
   "outputs": [],
   "source": [
    "im = Image.open(dirname + \"S_692.png\")\n",
    "box = (666,1123,800,1216)\n",
    "region=im.crop(box)\n",
    "region.show()\n",
    "mask = Image.new(\"RGBA\",(box[2]-box[0],box[3]-box[1]),(0,0,0))\n",
    "mask.show()\n",
    "im.paste(mask,box)\n",
    "im.show()"
   ]
  }
 ],
 "metadata": {
  "kernelspec": {
   "display_name": "Python 3",
   "language": "python",
   "name": "python3"
  },
  "language_info": {
   "codemirror_mode": {
    "name": "ipython",
    "version": 3
   },
   "file_extension": ".py",
   "mimetype": "text/x-python",
   "name": "python",
   "nbconvert_exporter": "python",
   "pygments_lexer": "ipython3",
   "version": "3.6.4"
  }
 },
 "nbformat": 4,
 "nbformat_minor": 2
}
